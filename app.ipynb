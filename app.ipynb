{
 "cells": [
  {
   "cell_type": "markdown",
   "metadata": {},
   "source": [
    "# Automatic Card Generation from Template \n",
    "## *Image Manipulation using Python*\n",
    "\n",
    "---\n",
    "\n",
    "```bash\n",
    "pip install pillow\n",
    "```"
   ]
  },
  {
   "cell_type": "code",
   "execution_count": 11,
   "metadata": {},
   "outputs": [
    {
     "name": "stdout",
     "output_type": "stream",
     "text": [
      " * Serving Flask app '__main__'\n",
      " * Debug mode: on\n"
     ]
    },
    {
     "name": "stderr",
     "output_type": "stream",
     "text": [
      "WARNING: This is a development server. Do not use it in a production deployment. Use a production WSGI server instead.\n",
      " * Running on http://127.0.0.1:5000\n",
      "Press CTRL+C to quit\n",
      " * Restarting with watchdog (fsevents)\n",
      "0.00s - Debugger warning: It seems that frozen modules are being used, which may\n",
      "0.00s - make the debugger miss breakpoints. Please pass -Xfrozen_modules=off\n",
      "0.00s - to python to disable frozen modules.\n",
      "0.00s - Note: Debugging will proceed. Set PYDEVD_DISABLE_FILE_VALIDATION=1 to disable this validation.\n",
      "Traceback (most recent call last):\n",
      "  File \"<frozen runpy>\", line 198, in _run_module_as_main\n",
      "  File \"<frozen runpy>\", line 88, in _run_code\n",
      "  File \"/opt/anaconda3/lib/python3.12/site-packages/ipykernel_launcher.py\", line 17, in <module>\n",
      "    app.launch_new_instance()\n",
      "  File \"/opt/anaconda3/lib/python3.12/site-packages/traitlets/config/application.py\", line 1074, in launch_instance\n",
      "    app.initialize(argv)\n",
      "  File \"/opt/anaconda3/lib/python3.12/site-packages/traitlets/config/application.py\", line 118, in inner\n",
      "    return method(app, *args, **kwargs)\n",
      "           ^^^^^^^^^^^^^^^^^^^^^^^^^^^^\n",
      "  File \"/opt/anaconda3/lib/python3.12/site-packages/ipykernel/kernelapp.py\", line 654, in initialize\n",
      "    self.init_sockets()\n",
      "  File \"/opt/anaconda3/lib/python3.12/site-packages/ipykernel/kernelapp.py\", line 331, in init_sockets\n",
      "    self.shell_port = self._bind_socket(self.shell_socket, self.shell_port)\n",
      "                      ^^^^^^^^^^^^^^^^^^^^^^^^^^^^^^^^^^^^^^^^^^^^^^^^^^^^^\n",
      "  File \"/opt/anaconda3/lib/python3.12/site-packages/ipykernel/kernelapp.py\", line 253, in _bind_socket\n",
      "    return self._try_bind_socket(s, port)\n",
      "           ^^^^^^^^^^^^^^^^^^^^^^^^^^^^^^\n",
      "  File \"/opt/anaconda3/lib/python3.12/site-packages/ipykernel/kernelapp.py\", line 229, in _try_bind_socket\n",
      "    s.bind(\"tcp://%s:%i\" % (self.ip, port))\n",
      "  File \"/opt/anaconda3/lib/python3.12/site-packages/zmq/sugar/socket.py\", line 302, in bind\n",
      "    super().bind(addr)\n",
      "  File \"zmq/backend/cython/socket.pyx\", line 564, in zmq.backend.cython.socket.Socket.bind\n",
      "  File \"zmq/backend/cython/checkrc.pxd\", line 28, in zmq.backend.cython.checkrc._check_rc\n",
      "zmq.error.ZMQError: Address already in use (addr='tcp://127.0.0.1:51020')\n"
     ]
    },
    {
     "ename": "SystemExit",
     "evalue": "1",
     "output_type": "error",
     "traceback": [
      "An exception has occurred, use %tb to see the full traceback.\n",
      "\u001b[0;31mSystemExit\u001b[0m\u001b[0;31m:\u001b[0m 1\n"
     ]
    },
    {
     "name": "stderr",
     "output_type": "stream",
     "text": [
      "/opt/anaconda3/lib/python3.12/site-packages/IPython/core/interactiveshell.py:3585: UserWarning: To exit: use 'exit', 'quit', or Ctrl-D.\n",
      "  warn(\"To exit: use 'exit', 'quit', or Ctrl-D.\", stacklevel=1)\n"
     ]
    }
   ],
   "source": [
    "from flask import Flask, render_template, request, send_file\n",
    "import pandas as pd\n",
    "from PIL import Image, ImageDraw, ImageFont\n",
    "import io\n",
    "\n",
    "app = Flask(__name__)\n",
    "\n",
    "# Load data and font\n",
    "df = pd.read_csv(\"students.csv\")\n",
    "records = df.to_dict(orient='records')\n",
    "font = ImageFont.truetype(\"OpenSans-Semibold.ttf\", size=25)\n",
    "\n",
    "@app.route('/')\n",
    "def index():\n",
    "    return '''\n",
    "    <h1>Student ID Card Generator</h1>\n",
    "    <form action=\"/generate\" method=\"post\">\n",
    "        <label for=\"student_id\">Enter Student ID:</label>\n",
    "        <input type=\"text\" id=\"student_id\" name=\"student_id\">\n",
    "        <input type=\"submit\" value=\"Generate ID Card\">\n",
    "    </form>\n",
    "    '''\n",
    "\n",
    "@app.route('/generate', methods=['POST'])\n",
    "def generate_card():\n",
    "    student_id = request.form['student_id']\n",
    "    \n",
    "    # Find student data\n",
    "    student_data = next((item for item in records if str(item['id']) == student_id), None)\n",
    "    \n",
    "    if not student_data:\n",
    "        return \"<h2>Student not found!</h2>\"\n",
    "    \n",
    "    # Generate ID Card\n",
    "    template = Image.open(\"templates/template.png\")\n",
    "    photo_path = f\"photos/{student_data['id']}.jpg\"\n",
    "    \n",
    "    if not os.path.exists(photo_path):\n",
    "        return \"<h2>Photo not found!</h2>\"\n",
    "    \n",
    "    pic = Image.open(photo_path).resize((165, 190), Image.Resampling.LANCZOS)\n",
    "    template.paste(pic, (25, 75))\n",
    "    \n",
    "    draw = ImageDraw.Draw(template)\n",
    "    draw.text((315, 80), str(student_data['id']), font=font, fill='black')\n",
    "    draw.text((315, 125), student_data['name'], font=font, fill='black')\n",
    "    draw.text((315, 170), student_data['class'], font=font, fill='black')\n",
    "    draw.text((315, 215), student_data['dob'], font=font, fill='black')\n",
    "    \n",
    "    # Save to memory and send as response\n",
    "    img_io = io.BytesIO()\n",
    "    template.save(img_io, 'JPEG')\n",
    "    img_io.seek(0)\n",
    "    \n",
    "    return send_file(img_io, mimetype='image/jpeg', as_attachment=True, download_name=f\"{student_data['id']}_card.jpg\")\n",
    "\n",
    "if __name__ == '__main__':\n",
    "    app.run(debug=True)\n"
   ]
  }
 ],
 "metadata": {
  "kernelspec": {
   "display_name": "Python 3 (ipykernel)",
   "language": "python",
   "name": "python3"
  },
  "language_info": {
   "codemirror_mode": {
    "name": "ipython",
    "version": 3
   },
   "file_extension": ".py",
   "mimetype": "text/x-python",
   "name": "python",
   "nbconvert_exporter": "python",
   "pygments_lexer": "ipython3",
   "version": "3.12.7"
  }
 },
 "nbformat": 4,
 "nbformat_minor": 4
}
